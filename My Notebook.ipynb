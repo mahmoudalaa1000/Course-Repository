{
 "cells": [
  {
   "cell_type": "markdown",
   "metadata": {
    "collapsed": true
   },
   "source": [
    "# My Jupyter Notebook on IBM Watson Studio"
   ]
  },
  {
   "cell_type": "markdown",
   "metadata": {},
   "source": [
    "**MAHMOUD ALAA**"
   ]
  },
  {
   "cell_type": "markdown",
   "metadata": {},
   "source": [
    "Data Scientist"
   ]
  },
  {
   "cell_type": "markdown",
   "metadata": {},
   "source": [
    "*I am interested in data science because am passionate about Machine Learning and Deep Learning. Since data is the heart of these tracks i would love to learn everything about it*"
   ]
  },
  {
   "cell_type": "markdown",
   "metadata": {},
   "source": [
    "### This code is supposed to print a sentence 'Wish you luck in your journy :)'"
   ]
  },
  {
   "cell_type": "code",
   "execution_count": 1,
   "metadata": {},
   "outputs": [
    {
     "name": "stdout",
     "output_type": "stream",
     "text": [
      "Wish you luck in your journy :)\n"
     ]
    }
   ],
   "source": [
    "print('Wish you luck in your journy :)')"
   ]
  },
  {
   "cell_type": "markdown",
   "metadata": {},
   "source": [
    "1. Consistency\n",
    "2. Makes\n",
    "3. Greatness\n",
    "\n",
    "`Shine bright like a Diamond`\n",
    "\n",
    "\n",
    "![Goat_Photo_Inside](https://upload.wikimedia.org/wikipedia/commons/c/c8/Lionel_Messi_WC2022.jpg)\n",
    "\n",
    "\n",
    "\n",
    "Facebook in <a href=\"https://www.facebook.com/\" target=\"_blank\">this link</a>."
   ]
  }
 ],
 "metadata": {
  "kernelspec": {
   "display_name": "Python 3.10",
   "language": "python",
   "name": "python3"
  },
  "language_info": {
   "codemirror_mode": {
    "name": "ipython",
    "version": 3
   },
   "file_extension": ".py",
   "mimetype": "text/x-python",
   "name": "python",
   "nbconvert_exporter": "python",
   "pygments_lexer": "ipython3",
   "version": "3.10.6"
  }
 },
 "nbformat": 4,
 "nbformat_minor": 1
}
